{
 "cells": [
  {
   "cell_type": "code",
   "execution_count": 5,
   "id": "ea09cd6d",
   "metadata": {},
   "outputs": [
    {
     "name": "stdout",
     "output_type": "stream",
     "text": [
      "Computing mean, median and standard deviation for each screentime on weekdays\n",
      "C_wk: Mean=2.10, Median=2.00, Standard Deviation=1.68\n",
      "G_wk: Mean=2.11, Median=2.00, Standard Deviation=1.63\n",
      "S_wk: Mean=3.19, Median=3.00, Standard Deviation=2.24\n",
      "T_wk: Mean=2.65, Median=2.00, Standard Deviation=1.64\n",
      "\n",
      "Computing mean, median and standard deviation for each screentime on weekends\n",
      "C_we: Mean=2.64, Median=2.00, Standard Deviation=1.99\n",
      "G_we: Mean=2.91, Median=2.00, Standard Deviation=2.10\n",
      "S_we: Mean=3.84, Median=4.00, Standard Deviation=2.35\n",
      "T_we: Mean=3.73, Median=4.00, Standard Deviation=1.89\n"
     ]
    }
   ],
   "source": [
    "import pandas as pd\n",
    "import numpy as np\n",
    "\n",
    "#read datasets into a dataframe\n",
    "dataset1 = pd.read_csv('dataset1.csv')\n",
    "dataset2 = pd.read_csv('dataset2.csv') #screentime\n",
    "dataset3 = pd.read_csv('dataset3.csv') #wellbeing\n",
    "\n",
    "#merge the datasets on the ID column\n",
    "merged_data = pd.merge(dataset1,dataset2, on='ID')\n",
    "merged_data = pd.merge(merged_data, dataset3, on='ID')\n",
    "\n",
    "\n",
    "#MEAN, MEDIAN, STANDARD DEVIATION D2\n",
    "#measures for screen time mean, median, mode\n",
    "screentime_col_wk = ['C_wk', 'G_wk', 'S_wk', 'T_wk']\n",
    "screentime_col_we = ['C_we', 'G_we', 'S_we', 'T_we']\n",
    "screentime_col = ['C_wk', 'C_we', 'G_wk', 'G_we', 'S_wk', 'S_we', 'T_wk', 'T_we']\n",
    "\n",
    "#calculating descriptive statistics\n",
    "#calculate mean, median and standard deviation for each screentime on weekdays\n",
    "print(f\"Computing mean, median and standard deviation for each screentime on weekdays\")\n",
    "for col in screentime_col_wk:\n",
    "    weekdays = merged_data[col][merged_data[col] > 0]\n",
    "    print(f\"{col}: Mean={weekdays.mean():.2f}, Median={weekdays.median():.2f}, Standard Deviation={weekdays.std():.2f}\")\n",
    "\n",
    "#calculate mean, median and standard deviation for each screentime on weekends\n",
    "print(f\"\\nComputing mean, median and standard deviation for each screentime on weekends\")\n",
    "for col in screentime_col_we:\n",
    "    weekends = merged_data[col][merged_data[col] > 0]\n",
    "    print(f\"{col}: Mean={weekends.mean():.2f}, Median={weekends.median():.2f}, Standard Deviation={weekends.std():.2f}\")"
   ]
  },
  {
   "cell_type": "code",
   "execution_count": null,
   "id": "4ccca620",
   "metadata": {},
   "outputs": [],
   "source": []
  }
 ],
 "metadata": {
  "kernelspec": {
   "display_name": "Python 3 (ipykernel)",
   "language": "python",
   "name": "python3"
  },
  "language_info": {
   "codemirror_mode": {
    "name": "ipython",
    "version": 3
   },
   "file_extension": ".py",
   "mimetype": "text/x-python",
   "name": "python",
   "nbconvert_exporter": "python",
   "pygments_lexer": "ipython3",
   "version": "3.11.5"
  }
 },
 "nbformat": 4,
 "nbformat_minor": 5
}
