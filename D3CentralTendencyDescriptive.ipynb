{
 "cells": [
  {
   "cell_type": "code",
   "execution_count": 1,
   "id": "ca7bca75",
   "metadata": {},
   "outputs": [
    {
     "name": "stdout",
     "output_type": "stream",
     "text": [
      "\n",
      "Computing mean, median and standard deviation for well being indicators\n",
      "Optm: Mean=3.28, Median=3.00, Standard Deviation=1.00\n",
      "Usef: Mean=3.11, Median=3.00, Standard Deviation=0.95\n",
      "Relx: Mean=3.10, Median=3.00, Standard Deviation=1.01\n",
      "Intp: Mean=3.27, Median=3.00, Standard Deviation=1.02\n",
      "Engs: Mean=3.05, Median=3.00, Standard Deviation=1.08\n",
      "Dealpr: Mean=3.37, Median=3.00, Standard Deviation=1.05\n",
      "Thcklr: Mean=3.49, Median=4.00, Standard Deviation=1.02\n",
      "Goodme: Mean=3.27, Median=3.00, Standard Deviation=1.13\n",
      "Clsep: Mean=3.56, Median=4.00, Standard Deviation=1.03\n",
      "Conf: Mean=3.31, Median=3.00, Standard Deviation=1.12\n",
      "Mkmind: Mean=3.85, Median=4.00, Standard Deviation=0.97\n",
      "Loved: Mean=3.90, Median=4.00, Standard Deviation=1.07\n",
      "Intthg: Mean=3.48, Median=4.00, Standard Deviation=1.07\n",
      "Cheer: Mean=3.50, Median=4.00, Standard Deviation=1.01\n"
     ]
    }
   ],
   "source": [
    "import pandas as pd\n",
    "import numpy as np\n",
    "\n",
    "#read datasets into a dataframe\n",
    "dataset1 = pd.read_csv('dataset1.csv')\n",
    "dataset2 = pd.read_csv('dataset2.csv') #screentime\n",
    "dataset3 = pd.read_csv('dataset3.csv') #wellbeing\n",
    "\n",
    "#merge the datasets on the ID column\n",
    "merged_data = pd.merge(dataset1,dataset2, on='ID')\n",
    "merged_data = pd.merge(merged_data, dataset3, on='ID')\n",
    "\n",
    "#calculating descriptive statistics\n",
    "#MEAN, MEDIAN, STANDARD DEVIATION D3\n",
    "#measures for well being indicators\n",
    "wellbeing_col = ['Optm', 'Usef', 'Relx', 'Intp', 'Engs', 'Dealpr', 'Thcklr', 'Goodme', 'Clsep', 'Conf',\n",
    "                'Mkmind', 'Loved', 'Intthg', 'Cheer']\n",
    "\n",
    "#calculate mean, median and standard deviation for well being indicators\n",
    "print(f\"\\nComputing mean, median and standard deviation for well being indicators\")\n",
    "for col in wellbeing_col:\n",
    "   wellbeing = merged_data[col][merged_data[col] > 0]\n",
    "   print(f\"{col}: Mean={wellbeing.mean():.2f}, Median={wellbeing.median():.2f}, Standard Deviation={wellbeing.std():.2f}\")\n",
    "\n"
   ]
  },
  {
   "cell_type": "code",
   "execution_count": null,
   "id": "fe9dd702",
   "metadata": {},
   "outputs": [],
   "source": []
  }
 ],
 "metadata": {
  "kernelspec": {
   "display_name": "Python 3 (ipykernel)",
   "language": "python",
   "name": "python3"
  },
  "language_info": {
   "codemirror_mode": {
    "name": "ipython",
    "version": 3
   },
   "file_extension": ".py",
   "mimetype": "text/x-python",
   "name": "python",
   "nbconvert_exporter": "python",
   "pygments_lexer": "ipython3",
   "version": "3.11.5"
  }
 },
 "nbformat": 4,
 "nbformat_minor": 5
}
