{
 "cells": [
  {
   "cell_type": "code",
   "execution_count": 1,
   "id": "c4c8a463",
   "metadata": {},
   "outputs": [
    {
     "name": "stdout",
     "output_type": "stream",
     "text": [
      "Comparison of 'Loved' Scores by Gender\n",
      "\n",
      "T-statistics: 23.946805813597667, \n",
      "P_value: 2.3020592008014453e-126\n",
      "Conclusion: The null hypothesis is rejected.\n"
     ]
    }
   ],
   "source": [
    "import pandas as pd\n",
    "from scipy import stats\n",
    "import numpy as np\n",
    "\n",
    "#read datasets into a dataframe\n",
    "dataset1 = pd.read_csv('dataset1.csv')\n",
    "dataset2 = pd.read_csv('dataset2.csv') #screentime\n",
    "dataset3 = pd.read_csv('dataset3.csv') #wellbeing\n",
    "\n",
    "#merge the datasets on the ID column\n",
    "merged_data = pd.merge(dataset1,dataset2, on='ID')\n",
    "merged_data = pd.merge(merged_data, dataset3, on='ID')\n",
    "\n",
    "\n",
    "screentime_col_wk = ['C_wk', 'G_wk', 'S_wk', 'T_wk']\n",
    "screentime_col_we = ['C_we', 'G_we', 'S_we', 'T_we']\n",
    "screentime_col = ['C_wk', 'C_we', 'G_wk', 'G_we', 'S_wk', 'S_we', 'T_wk', 'T_we']\n",
    "\n",
    "\n",
    "#t_stats and p_value\n",
    "print(f\"Comparison of 'Loved' Scores by Gender\")\n",
    "g1 = merged_data[merged_data['gender'] == 1]['Loved']\n",
    "g2 = merged_data[merged_data['gender'] == 0]['Loved']\n",
    "\n",
    "t_stats, p_value = stats.ttest_ind(g1,g2)\n",
    "print(f\"\\nT-statistics: {t_stats}, \\nP_value: {p_value}\")\n",
    "\n",
    "if p_value < 0.05:\n",
    "    print(\"Conclusion: The null hypothesis is rejected.\")\n",
    "else:\n",
    "    print(\"Conclusion: The null hypothesis is accepted.\")"
   ]
  },
  {
   "cell_type": "code",
   "execution_count": null,
   "id": "bcc1a18a",
   "metadata": {},
   "outputs": [],
   "source": []
  }
 ],
 "metadata": {
  "kernelspec": {
   "display_name": "Python 3 (ipykernel)",
   "language": "python",
   "name": "python3"
  },
  "language_info": {
   "codemirror_mode": {
    "name": "ipython",
    "version": 3
   },
   "file_extension": ".py",
   "mimetype": "text/x-python",
   "name": "python",
   "nbconvert_exporter": "python",
   "pygments_lexer": "ipython3",
   "version": "3.11.5"
  }
 },
 "nbformat": 4,
 "nbformat_minor": 5
}
